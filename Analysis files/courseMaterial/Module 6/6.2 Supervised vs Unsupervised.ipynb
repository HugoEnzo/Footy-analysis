{
 "cells": [
  {
   "cell_type": "markdown",
   "id": "5568398f982a1ded",
   "metadata": {
    "collapsed": false,
    "jupyter": {
     "outputs_hidden": false
    }
   },
   "source": [
    "# Supervised vs Unsupervised Learning\n",
    "\n",
    "Machine learning can be broadly classified into two types: supervised and unsupervised learning. \n",
    "\n",
    "In supervised learning, the algorithm learns from labeled data, while in unsupervised learning, the algorithm learns from unlabeled data.\n",
    "\n",
    "Some of the most common supervised learning algorithms are:\n",
    "- Linear regression\n",
    "- Logistic regression\n",
    "- Decision trees\n",
    "- Random forests\n",
    "- Support vector machines\n",
    "- Neural networks\n",
    "\n",
    "While some of the most common unsupervised learning algorithms are:\n",
    "- K-means clustering\n",
    "- Hierarchical clustering\n",
    "- Principal component analysis (PCA)\n",
    "- DBSCAN\n",
    "\n",
    "Let's take a look at how supervised and unsupervised learning differ in terms of the data they use and the problems they solve."
   ]
  },
  {
   "cell_type": "markdown",
   "id": "8925a951ecc9e2fe",
   "metadata": {
    "collapsed": false,
    "jupyter": {
     "outputs_hidden": false
    }
   },
   "source": [
    "\n",
    "## Supervised Learning\n",
    "\n",
    "In supervised learning, the algorithm learns from labeled data, which means that the data used to train the algorithm has both input and output labels. The goal of supervised learning is to learn a mapping from input variables to output variables, so that the algorithm can make predictions on new, unseen data.\n",
    "\n",
    "Supervised learning is used for tasks such as classification and regression. In classification, the goal is to predict the class label of a new data point, while in regression, the goal is to predict a continuous value.\n",
    "\n",
    "Some examples of supervised learning tasks include:\n",
    "- Predicting whether an email is spam or not spam\n",
    "- Predicting the price of a house based on its features\n",
    "- Predicting the species of a flower based on its measurements\n",
    "\n",
    "Let's look at a common supervised learning practice problem: predicting the species of a flower based on its measurements."
   ]
  },
  {
   "cell_type": "code",
   "execution_count": 1,
   "id": "ebf00314f9e85eb5",
   "metadata": {
    "ExecuteTime": {
     "end_time": "2024-04-08T02:47:26.880148Z",
     "start_time": "2024-04-08T02:47:23.360185Z"
    },
    "collapsed": false,
    "jupyter": {
     "outputs_hidden": false
    }
   },
   "outputs": [],
   "source": [
    "from sklearn.datasets import load_iris\n",
    "\n",
    "# Load the iris dataset\n",
    "iris = load_iris()"
   ]
  },
  {
   "cell_type": "code",
   "execution_count": 2,
   "id": "c5216ea07fd58272",
   "metadata": {
    "ExecuteTime": {
     "end_time": "2024-04-08T02:48:37.809899Z",
     "start_time": "2024-04-08T02:48:35.682919Z"
    },
    "collapsed": false,
    "jupyter": {
     "outputs_hidden": false
    }
   },
   "outputs": [
    {
     "data": {
      "text/html": [
       "<div>\n",
       "<style scoped>\n",
       "    .dataframe tbody tr th:only-of-type {\n",
       "        vertical-align: middle;\n",
       "    }\n",
       "\n",
       "    .dataframe tbody tr th {\n",
       "        vertical-align: top;\n",
       "    }\n",
       "\n",
       "    .dataframe thead th {\n",
       "        text-align: right;\n",
       "    }\n",
       "</style>\n",
       "<table border=\"1\" class=\"dataframe\">\n",
       "  <thead>\n",
       "    <tr style=\"text-align: right;\">\n",
       "      <th></th>\n",
       "      <th>sepal length (cm)</th>\n",
       "      <th>sepal width (cm)</th>\n",
       "      <th>petal length (cm)</th>\n",
       "      <th>petal width (cm)</th>\n",
       "      <th>species</th>\n",
       "    </tr>\n",
       "  </thead>\n",
       "  <tbody>\n",
       "    <tr>\n",
       "      <th>0</th>\n",
       "      <td>5.1</td>\n",
       "      <td>3.5</td>\n",
       "      <td>1.4</td>\n",
       "      <td>0.2</td>\n",
       "      <td>setosa</td>\n",
       "    </tr>\n",
       "    <tr>\n",
       "      <th>1</th>\n",
       "      <td>4.9</td>\n",
       "      <td>3.0</td>\n",
       "      <td>1.4</td>\n",
       "      <td>0.2</td>\n",
       "      <td>setosa</td>\n",
       "    </tr>\n",
       "    <tr>\n",
       "      <th>2</th>\n",
       "      <td>4.7</td>\n",
       "      <td>3.2</td>\n",
       "      <td>1.3</td>\n",
       "      <td>0.2</td>\n",
       "      <td>setosa</td>\n",
       "    </tr>\n",
       "    <tr>\n",
       "      <th>3</th>\n",
       "      <td>4.6</td>\n",
       "      <td>3.1</td>\n",
       "      <td>1.5</td>\n",
       "      <td>0.2</td>\n",
       "      <td>setosa</td>\n",
       "    </tr>\n",
       "    <tr>\n",
       "      <th>4</th>\n",
       "      <td>5.0</td>\n",
       "      <td>3.6</td>\n",
       "      <td>1.4</td>\n",
       "      <td>0.2</td>\n",
       "      <td>setosa</td>\n",
       "    </tr>\n",
       "  </tbody>\n",
       "</table>\n",
       "</div>"
      ],
      "text/plain": [
       "   sepal length (cm)  sepal width (cm)  petal length (cm)  petal width (cm)  \\\n",
       "0                5.1               3.5                1.4               0.2   \n",
       "1                4.9               3.0                1.4               0.2   \n",
       "2                4.7               3.2                1.3               0.2   \n",
       "3                4.6               3.1                1.5               0.2   \n",
       "4                5.0               3.6                1.4               0.2   \n",
       "\n",
       "  species  \n",
       "0  setosa  \n",
       "1  setosa  \n",
       "2  setosa  \n",
       "3  setosa  \n",
       "4  setosa  "
      ]
     },
     "execution_count": 2,
     "metadata": {},
     "output_type": "execute_result"
    }
   ],
   "source": [
    "import pandas as pd\n",
    "\n",
    "# Create a DataFrame with the feature variables\n",
    "df = pd.DataFrame(iris.data, columns=iris.feature_names)\n",
    "\n",
    "# Add a column with the target variable\n",
    "df['species'] = iris.target\n",
    "\n",
    "# Map the target variable to the species name\n",
    "df['species'] = df['species'].map({0: 'setosa', 1: 'versicolor', 2: 'virginica'})\n",
    "\n",
    "# Display the first few rows of the DataFrame\n",
    "df.head()\n",
    "import pandas as pd"
   ]
  },
  {
   "cell_type": "markdown",
   "id": "e49f4946a350313",
   "metadata": {
    "collapsed": false,
    "jupyter": {
     "outputs_hidden": false
    }
   },
   "source": [
    "As we can see, the iris dataset contains four feature variables (sepal length, sepal width, petal length, and petal width) and one target variable (species). The goal of this supervised learning problem is to predict the species of a flower based on its measurements.\n",
    "\n",
    "The algorithm learns from the labeled data in the training set and then makes predictions on the test set. The performance of the algorithm is evaluated based on how well it predicts the target variable."
   ]
  },
  {
   "cell_type": "markdown",
   "id": "f34b3babbe781373",
   "metadata": {
    "collapsed": false,
    "jupyter": {
     "outputs_hidden": false
    }
   },
   "source": [
    "# Unsupervised Learning\n",
    "\n",
    "In unsupervised learning, the algorithm learns from unlabeled data, which means that the data used to train the algorithm has input variables but no output labels. The goal of unsupervised learning is to find patterns and relationships in the data without the need for labeled data.\n",
    "\n",
    "Unsupervised learning is used for tasks such as clustering and dimensionality reduction. In clustering, the goal is to group similar data points together, while in dimensionality reduction, the goal is to reduce the number of input variables while preserving the important information in the data.\n",
    "\n",
    "Some examples of unsupervised learning tasks include:\n",
    "- Grouping customers based on their purchase history\n",
    "- Identifying patterns in text data\n",
    "- Reducing the dimensionality of image data\n",
    "- Anomaly detection\n",
    "- Recommender systems\n",
    "\n",
    "Let's take a look at a common unsupervised learning algorithm: K-means clustering.\n"
   ]
  },
  {
   "cell_type": "code",
   "execution_count": 1,
   "id": "b585f43efe2808c3",
   "metadata": {
    "ExecuteTime": {
     "end_time": "2024-04-12T02:49:13.905170Z",
     "start_time": "2024-04-12T02:49:11.584392Z"
    },
    "collapsed": false,
    "jupyter": {
     "outputs_hidden": false
    }
   },
   "outputs": [
    {
     "data": {
      "image/png": "[encoded data removed]",
      "text/plain": [
       "<Figure size 640x480 with 1 Axes>"
      ]
     },
     "metadata": {},
     "output_type": "display_data"
    }
   ],
   "source": [
    "import matplotlib.pyplot as plt\n",
    "from sklearn.cluster import KMeans\n",
    "import numpy as np\n",
    "\n",
    "# Generate some random data\n",
    "X = np.random.rand(100, 2)\n",
    "\n",
    "# Fit the K-means algorithm to the data\n",
    "kmeans = KMeans(n_clusters=3)\n",
    "kmeans.fit(X)\n",
    "\n",
    "# Get the cluster labels\n",
    "labels = kmeans.labels_\n",
    "\n",
    "# Get the cluster centers\n",
    "centers = kmeans.cluster_centers_\n",
    "\n",
    "# Plot the data points and cluster centers\n",
    "plt.scatter(X[:, 0], X[:, 1], c=labels, cmap='viridis')\n",
    "\n",
    "plt.scatter(centers[:, 0], centers[:, 1], c='red', marker='x', s=100)\n",
    "\n",
    "plt.xlabel('Feature 1')\n",
    "plt.ylabel('Feature 2')\n",
    "plt.title('K-means Clustering')\n",
    "\n",
    "plt.show()"
   ]
  },
  {
   "cell_type": "code",
   "execution_count": null,
   "id": "b23bf97d416a8845",
   "metadata": {
    "collapsed": false,
    "jupyter": {
     "outputs_hidden": false
    }
   },
   "outputs": [],
   "source": []
  }
 ],
 "metadata": {
  "kernelspec": {
   "display_name": "Python 3 (ipykernel)",
   "language": "python",
   "name": "python3"
  },
  "language_info": {
   "codemirror_mode": {
    "name": "ipython",
    "version": 3
   },
   "file_extension": ".py",
   "mimetype": "text/x-python",
   "name": "python",
   "nbconvert_exporter": "python",
   "pygments_lexer": "ipython3",
   "version": "3.11.7"
  }
 },
 "nbformat": 4,
 "nbformat_minor": 5
}
