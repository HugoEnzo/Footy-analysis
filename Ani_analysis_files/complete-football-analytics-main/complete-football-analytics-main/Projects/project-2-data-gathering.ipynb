{
 "cells": [
  {
   "cell_type": "code",
   "execution_count": 26,
   "outputs": [],
   "source": [
    "import pandas as pd\n",
    "\n",
    "dates = pd.date_range(start='1/1/2018', end='5/31/2023', freq='YS')"
   ],
   "metadata": {
    "collapsed": true,
    "ExecuteTime": {
     "end_time": "2024-04-16T12:57:51.813718Z",
     "start_time": "2024-04-16T12:57:51.809343Z"
    }
   },
   "id": "initial_id"
  },
  {
   "cell_type": "code",
   "execution_count": 29,
   "outputs": [
    {
     "name": "stdout",
     "output_type": "stream",
     "text": [
      "2018-2019\n",
      "2019-2020\n",
      "2020-2021\n",
      "2021-2022\n",
      "2022-2023\n",
      "2023-2024\n"
     ]
    }
   ],
   "source": [
    "all_dfs = []\n",
    "\n",
    "for date in dates:\n",
    "    season_start = date.year\n",
    "    season_end = date.year + 1\n",
    "    season = f'{season_start}-{season_end}'\n",
    "    print(season)\n",
    "    df = pd.read_html(f'https://fbref.com/en/comps/12/{season}/schedule/{season}-La-Liga-Scores-and-Fixtures', attrs={\"id\": f\"sched_{season}_12_1\"})[0]\n",
    "    all_dfs.append(df)\n",
    "    \n",
    "    df2 = pd.read_html(f'https://fbref.com/en/comps/9/{season}/schedule/{season}-Premier-League-Scores-and-Fixtures', attrs={\"id\": f\"sched_{season}_9_1\"})[0]\n",
    "    all_dfs.append(df2)"
   ],
   "metadata": {
    "collapsed": false,
    "ExecuteTime": {
     "end_time": "2024-04-16T13:01:44.065580Z",
     "start_time": "2024-04-16T13:01:41.977770Z"
    }
   },
   "id": "4723e6ec880e2b0c"
  },
  {
   "cell_type": "code",
   "execution_count": 30,
   "outputs": [],
   "source": [
    "df = pd.concat(all_dfs)"
   ],
   "metadata": {
    "collapsed": false,
    "ExecuteTime": {
     "end_time": "2024-04-16T13:01:50.434760Z",
     "start_time": "2024-04-16T13:01:50.431131Z"
    }
   },
   "id": "73eafbb0e47f7181"
  },
  {
   "cell_type": "code",
   "execution_count": 31,
   "outputs": [],
   "source": [
    "df = df.dropna(subset=['Wk'])"
   ],
   "metadata": {
    "collapsed": false,
    "ExecuteTime": {
     "end_time": "2024-04-16T13:02:46.012442Z",
     "start_time": "2024-04-16T13:02:46.007671Z"
    }
   },
   "id": "4f332e035293d81b"
  },
  {
   "cell_type": "code",
   "execution_count": 32,
   "outputs": [
    {
     "data": {
      "text/plain": "Index(['Wk', 'Day', 'Date', 'Time', 'Home', 'xG', 'Score', 'xG.1', 'Away',\n       'Attendance', 'Venue', 'Referee', 'Match Report', 'Notes'],\n      dtype='object')"
     },
     "execution_count": 32,
     "metadata": {},
     "output_type": "execute_result"
    }
   ],
   "source": [
    "df.columns"
   ],
   "metadata": {
    "collapsed": false,
    "ExecuteTime": {
     "end_time": "2024-04-16T13:04:37.698784Z",
     "start_time": "2024-04-16T13:04:37.695636Z"
    }
   },
   "id": "3e3c125dc27d886b"
  },
  {
   "cell_type": "code",
   "execution_count": 33,
   "outputs": [
    {
     "name": "stderr",
     "output_type": "stream",
     "text": [
      "/var/folders/l3/wlgnl3zd5hl46kfjq1yh3k9r0000gn/T/ipykernel_63924/376191301.py:1: SettingWithCopyWarning: \n",
      "A value is trying to be set on a copy of a slice from a DataFrame\n",
      "\n",
      "See the caveats in the documentation: https://pandas.pydata.org/pandas-docs/stable/user_guide/indexing.html#returning-a-view-versus-a-copy\n",
      "  df.drop(columns=['Match Report', 'Notes'], inplace=True)\n"
     ]
    }
   ],
   "source": [
    "df.drop(columns=['Match Report', 'Notes'], inplace=True)"
   ],
   "metadata": {
    "collapsed": false,
    "ExecuteTime": {
     "end_time": "2024-04-16T13:04:58.172846Z",
     "start_time": "2024-04-16T13:04:58.166603Z"
    }
   },
   "id": "af60855da9c020da"
  },
  {
   "cell_type": "code",
   "execution_count": 34,
   "outputs": [],
   "source": [
    "df.to_csv('~/Documents/GitHub/complete-football-analytics/Projects/project2.csv', index=False)"
   ],
   "metadata": {
    "collapsed": false,
    "ExecuteTime": {
     "end_time": "2024-04-16T13:05:38.821055Z",
     "start_time": "2024-04-16T13:05:38.797099Z"
    }
   },
   "id": "20ed65bcea8550de"
  }
 ],
 "metadata": {
  "kernelspec": {
   "display_name": "Python 3",
   "language": "python",
   "name": "python3"
  },
  "language_info": {
   "codemirror_mode": {
    "name": "ipython",
    "version": 2
   },
   "file_extension": ".py",
   "mimetype": "text/x-python",
   "name": "python",
   "nbconvert_exporter": "python",
   "pygments_lexer": "ipython2",
   "version": "2.7.6"
  }
 },
 "nbformat": 4,
 "nbformat_minor": 5
}
